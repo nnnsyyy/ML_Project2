{
 "cells": [
  {
   "cell_type": "code",
   "execution_count": 2,
   "metadata": {
    "collapsed": false
   },
   "outputs": [],
   "source": [
    "import numpy as np\n",
    "import sentence_metrix as sm"
   ]
  },
  {
   "cell_type": "code",
   "execution_count": 88,
   "metadata": {
    "collapsed": false
   },
   "outputs": [],
   "source": [
    "embed_word_metrix = np.load('./data/embeddings.npy')"
   ]
  },
  {
   "cell_type": "code",
   "execution_count": 89,
   "metadata": {
    "collapsed": false
   },
   "outputs": [
    {
     "data": {
      "text/plain": [
       "(21161, 20)"
      ]
     },
     "execution_count": 89,
     "metadata": {},
     "output_type": "execute_result"
    }
   ],
   "source": [
    "embed_word_metrix.shape"
   ]
  },
  {
   "cell_type": "code",
   "execution_count": 90,
   "metadata": {
    "collapsed": false
   },
   "outputs": [],
   "source": [
    "vocab = np.load('./data/vocab.pkl')"
   ]
  },
  {
   "cell_type": "code",
   "execution_count": 91,
   "metadata": {
    "collapsed": false
   },
   "outputs": [
    {
     "data": {
      "text/plain": [
       "21161"
      ]
     },
     "execution_count": 91,
     "metadata": {},
     "output_type": "execute_result"
    }
   ],
   "source": [
    "len(vocab)"
   ]
  },
  {
   "cell_type": "code",
   "execution_count": 92,
   "metadata": {
    "collapsed": false
   },
   "outputs": [
    {
     "data": {
      "text/plain": [
       "(20,)"
      ]
     },
     "execution_count": 92,
     "metadata": {},
     "output_type": "execute_result"
    }
   ],
   "source": [
    "embed_word_metrix[0,:].shape"
   ]
  },
  {
   "cell_type": "code",
   "execution_count": 93,
   "metadata": {
    "collapsed": false
   },
   "outputs": [],
   "source": [
    "\tsentence_metrix = []\n",
    "\tfor fn in [\"./twitter-datasets/pos_train.txt\",\"./twitter-datasets/neg_train.txt\"]:\n",
    "\t\t\twith open(fn) as f:\n",
    "\t\t\t\tfor line in f:\n",
    "\t\t\t\t\tfor t in line.strip().split():\n",
    "\t\t\t\t\t\tsentence_vector = np.zeros(20) \n",
    "\t\t\t\t\t\tif(vocab.get(t)!=None):\n",
    "\t\t\t\t\t\t\tsentence_vector +=embed_word_metrix[vocab.get(t)-1,:]\n",
    "\t\t\t\t\tsentence_metrix.append(sentence_vector)"
   ]
  },
  {
   "cell_type": "code",
   "execution_count": 94,
   "metadata": {
    "collapsed": false
   },
   "outputs": [],
   "source": [
    "sentence_metrix = np.asarray(sentence_metrix)"
   ]
  },
  {
   "cell_type": "code",
   "execution_count": 95,
   "metadata": {
    "collapsed": false
   },
   "outputs": [
    {
     "data": {
      "text/plain": [
       "(200000, 20)"
      ]
     },
     "execution_count": 95,
     "metadata": {},
     "output_type": "execute_result"
    }
   ],
   "source": [
    "sentence_metrix.shape"
   ]
  },
  {
   "cell_type": "code",
   "execution_count": 96,
   "metadata": {
    "collapsed": false
   },
   "outputs": [
    {
     "data": {
      "text/plain": [
       "array([[-0.58216098, -0.05721694, -0.24918398, ..., -0.23684238,\n",
       "        -0.60419656, -0.56451865],\n",
       "       [-0.20708859, -0.09317281, -0.27406503, ..., -0.09272619,\n",
       "        -0.0238416 ,  0.16086663],\n",
       "       [ 0.        ,  0.        ,  0.        , ...,  0.        ,\n",
       "         0.        ,  0.        ],\n",
       "       ..., \n",
       "       [-0.20708859, -0.09317281, -0.27406503, ..., -0.09272619,\n",
       "        -0.0238416 ,  0.16086663],\n",
       "       [-0.64775718, -0.24338572, -0.71112321, ..., -0.14152039,\n",
       "        -0.02763016,  0.44240767],\n",
       "       [-0.67838218, -0.15581983, -0.17458961, ..., -0.60721204,\n",
       "         0.26350759,  0.61909953]])"
      ]
     },
     "execution_count": 96,
     "metadata": {},
     "output_type": "execute_result"
    }
   ],
   "source": [
    "sentence_metrix"
   ]
  },
  {
   "cell_type": "code",
   "execution_count": 98,
   "metadata": {
    "collapsed": false
   },
   "outputs": [],
   "source": [
    "y_train = np.zeros(200000)\n",
    "for i in range(0,100000,1):\n",
    "    y_train[i]=1\n",
    "for i in range(100000,200000,1):\n",
    "    y_train[i] = -1"
   ]
  },
  {
   "cell_type": "code",
   "execution_count": 99,
   "metadata": {
    "collapsed": true
   },
   "outputs": [],
   "source": [
    "from sklearn import linear_model"
   ]
  },
  {
   "cell_type": "code",
   "execution_count": 100,
   "metadata": {
    "collapsed": false
   },
   "outputs": [
    {
     "data": {
      "text/plain": [
       "LinearRegression(copy_X=True, fit_intercept=True, n_jobs=1, normalize=False)"
      ]
     },
     "execution_count": 100,
     "metadata": {},
     "output_type": "execute_result"
    }
   ],
   "source": [
    "reg = linear_model.LinearRegression()\n",
    "reg.fit(sentence_metrix,y_train)"
   ]
  },
  {
   "cell_type": "code",
   "execution_count": 101,
   "metadata": {
    "collapsed": false
   },
   "outputs": [
    {
     "data": {
      "text/plain": [
       "array([-0.08604567, -0.04366987, -0.08893452,  0.0044943 ,  0.01917628,\n",
       "       -0.08401141,  0.05529616,  0.02881053, -0.02830876,  0.01909553,\n",
       "       -0.05358102, -0.03211675,  0.04232069, -0.04246669,  0.02455039,\n",
       "       -0.0140496 ,  0.053654  ,  0.00684581, -0.00956578,  0.04576188])"
      ]
     },
     "execution_count": 101,
     "metadata": {},
     "output_type": "execute_result"
    }
   ],
   "source": [
    "reg.coef_"
   ]
  },
  {
   "cell_type": "code",
   "execution_count": 102,
   "metadata": {
    "collapsed": false
   },
   "outputs": [
    {
     "data": {
      "text/plain": [
       "-0.20329452831123362"
      ]
     },
     "execution_count": 102,
     "metadata": {},
     "output_type": "execute_result"
    }
   ],
   "source": [
    "reg.intercept_"
   ]
  },
  {
   "cell_type": "code",
   "execution_count": 103,
   "metadata": {
    "collapsed": false
   },
   "outputs": [],
   "source": [
    "w = np.insert(reg.coef_,0,reg.intercept_)"
   ]
  },
  {
   "cell_type": "code",
   "execution_count": 104,
   "metadata": {
    "collapsed": false
   },
   "outputs": [
    {
     "data": {
      "text/plain": [
       "(21,)"
      ]
     },
     "execution_count": 104,
     "metadata": {},
     "output_type": "execute_result"
    }
   ],
   "source": [
    "w.shape"
   ]
  },
  {
   "cell_type": "code",
   "execution_count": 105,
   "metadata": {
    "collapsed": false
   },
   "outputs": [],
   "source": [
    "\tsentence_metrix_test = []\n",
    "\tfor fn in [\"./twitter-datasets/test_data.txt\"]:\n",
    "\t\t\twith open(fn) as f:\n",
    "\t\t\t\tfor line in f:\n",
    "\t\t\t\t\tfor t in line.strip().split():\n",
    "\t\t\t\t\t\tsentence_vector = np.zeros(20) \n",
    "\t\t\t\t\t\tif(vocab.get(t)!=None):\n",
    "\t\t\t\t\t\t\tsentence_vector +=embed_word_metrix[vocab.get(t)-1,:]\n",
    "\t\t\t\t\tsentence_metrix_test.append(sentence_vector)"
   ]
  },
  {
   "cell_type": "code",
   "execution_count": 106,
   "metadata": {
    "collapsed": false
   },
   "outputs": [],
   "source": [
    "sentence_metrix_test = np.asarray(sentence_metrix_test)"
   ]
  },
  {
   "cell_type": "code",
   "execution_count": 107,
   "metadata": {
    "collapsed": false
   },
   "outputs": [
    {
     "data": {
      "text/plain": [
       "(10000, 20)"
      ]
     },
     "execution_count": 107,
     "metadata": {},
     "output_type": "execute_result"
    }
   ],
   "source": [
    "sentence_metrix_test.shape"
   ]
  },
  {
   "cell_type": "code",
   "execution_count": 108,
   "metadata": {
    "collapsed": true
   },
   "outputs": [],
   "source": [
    "sentence_metrix_test = np.insert(sentence_metrix_test,0,1,axis=1)"
   ]
  },
  {
   "cell_type": "code",
   "execution_count": 109,
   "metadata": {
    "collapsed": false
   },
   "outputs": [
    {
     "data": {
      "text/plain": [
       "array([-0.07255184,  0.0077238 ,  0.082897  , ..., -0.07255184,\n",
       "       -0.20329453, -0.07255184])"
      ]
     },
     "execution_count": 109,
     "metadata": {},
     "output_type": "execute_result"
    }
   ],
   "source": [
    "test_y = sentence_metrix_test.dot(w)\n",
    "test_y"
   ]
  },
  {
   "cell_type": "code",
   "execution_count": 110,
   "metadata": {
    "collapsed": false
   },
   "outputs": [],
   "source": [
    "for y_index in test_y:\n",
    "    if (y_index>0):\n",
    "        y_index = 1\n",
    "    else:\n",
    "        y_index = -1\n",
    "        "
   ]
  },
  {
   "cell_type": "code",
   "execution_count": 111,
   "metadata": {
    "collapsed": false
   },
   "outputs": [],
   "source": [
    "y_label = np.zeros(test_y.shape)"
   ]
  },
  {
   "cell_type": "code",
   "execution_count": 112,
   "metadata": {
    "collapsed": false
   },
   "outputs": [],
   "source": [
    "for i in range(0,10000,1):\n",
    "    if (test_y[i]>0):\n",
    "        y_label[i]  = 1\n",
    "    else:\n",
    "        y_label[i] = -1"
   ]
  },
  {
   "cell_type": "code",
   "execution_count": 113,
   "metadata": {
    "collapsed": false
   },
   "outputs": [
    {
     "data": {
      "text/plain": [
       "array([-1.,  1.,  1., ..., -1., -1., -1.])"
      ]
     },
     "execution_count": 113,
     "metadata": {},
     "output_type": "execute_result"
    }
   ],
   "source": [
    "y_label"
   ]
  },
  {
   "cell_type": "code",
   "execution_count": 114,
   "metadata": {
    "collapsed": true
   },
   "outputs": [],
   "source": [
    "from helpers import create_csv_submission"
   ]
  },
  {
   "cell_type": "code",
   "execution_count": 115,
   "metadata": {
    "collapsed": false
   },
   "outputs": [],
   "source": [
    "OUTPUT_PATH = './data/first.csv' \n",
    "create_csv_submission(range(1,10001,1), y_label, OUTPUT_PATH)\n",
    "#first try using least square (59.320%)"
   ]
  }
 ],
 "metadata": {
  "kernelspec": {
   "display_name": "Python 3",
   "language": "python",
   "name": "python3"
  },
  "language_info": {
   "codemirror_mode": {
    "name": "ipython",
    "version": 3
   },
   "file_extension": ".py",
   "mimetype": "text/x-python",
   "name": "python",
   "nbconvert_exporter": "python",
   "pygments_lexer": "ipython3",
   "version": "3.5.2"
  }
 },
 "nbformat": 4,
 "nbformat_minor": 1
}
